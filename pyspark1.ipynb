{
 "cells": [
  {
   "cell_type": "code",
   "execution_count": 1,
   "id": "f86c522f",
   "metadata": {},
   "outputs": [],
   "source": [
    "import pyspark"
   ]
  },
  {
   "cell_type": "code",
   "execution_count": 2,
   "id": "22da0f18",
   "metadata": {},
   "outputs": [],
   "source": [
    "import findspark\n",
    "from pyspark.sql import SparkSession"
   ]
  },
  {
   "cell_type": "code",
   "execution_count": 3,
   "id": "27da8977",
   "metadata": {},
   "outputs": [],
   "source": [
    "findspark.init()"
   ]
  },
  {
   "cell_type": "code",
   "execution_count": 4,
   "id": "d5a0c726",
   "metadata": {},
   "outputs": [
    {
     "data": {
      "text/plain": [
       "'C:\\\\spark\\\\spark-3.3.2-bin-hadoop2'"
      ]
     },
     "execution_count": 4,
     "metadata": {},
     "output_type": "execute_result"
    }
   ],
   "source": [
    "findspark.find()"
   ]
  },
  {
   "cell_type": "code",
   "execution_count": 5,
   "id": "dd57df68",
   "metadata": {},
   "outputs": [],
   "source": [
    "from pyspark.sql import SparkSession"
   ]
  },
  {
   "cell_type": "code",
   "execution_count": 6,
   "id": "e086cf8e",
   "metadata": {},
   "outputs": [],
   "source": [
    "spark=SparkSession.builder.appName('myspark').getOrCreate()"
   ]
  },
  {
   "cell_type": "code",
   "execution_count": 7,
   "id": "32f32c97",
   "metadata": {},
   "outputs": [
    {
     "data": {
      "text/html": [
       "\n",
       "            <div>\n",
       "                <p><b>SparkSession - in-memory</b></p>\n",
       "                \n",
       "        <div>\n",
       "            <p><b>SparkContext</b></p>\n",
       "\n",
       "            <p><a href=\"http://10.2.114.190:4040\">Spark UI</a></p>\n",
       "\n",
       "            <dl>\n",
       "              <dt>Version</dt>\n",
       "                <dd><code>v3.3.2</code></dd>\n",
       "              <dt>Master</dt>\n",
       "                <dd><code>local[*]</code></dd>\n",
       "              <dt>AppName</dt>\n",
       "                <dd><code>myspark</code></dd>\n",
       "            </dl>\n",
       "        </div>\n",
       "        \n",
       "            </div>\n",
       "        "
      ],
      "text/plain": [
       "<pyspark.sql.session.SparkSession at 0x275706a5b20>"
      ]
     },
     "execution_count": 7,
     "metadata": {},
     "output_type": "execute_result"
    }
   ],
   "source": [
    "spark"
   ]
  },
  {
   "cell_type": "code",
   "execution_count": 8,
   "id": "e34e6565",
   "metadata": {},
   "outputs": [],
   "source": [
    "# /* SparkSession was introduced in version 2.0, It is an entry point to underlying PySpark functionality \n",
    "# in order to programmatically create PySpark RDD, DataFrame. \n",
    "# It’s object spark is default available in pyspark-shell and it can be created programmatically using SparkSession.*/"
   ]
  },
  {
   "cell_type": "code",
   "execution_count": 9,
   "id": "414efa22",
   "metadata": {},
   "outputs": [],
   "source": [
    "df=spark.read.csv('practice.txt')"
   ]
  },
  {
   "cell_type": "code",
   "execution_count": 10,
   "id": "333a8a9d",
   "metadata": {},
   "outputs": [
    {
     "data": {
      "text/plain": [
       "DataFrame[_c0: string, _c1: string, _c2: string]"
      ]
     },
     "execution_count": 10,
     "metadata": {},
     "output_type": "execute_result"
    }
   ],
   "source": [
    "df"
   ]
  },
  {
   "cell_type": "code",
   "execution_count": 11,
   "id": "3aed8c0f",
   "metadata": {},
   "outputs": [
    {
     "name": "stdout",
     "output_type": "stream",
     "text": [
      "+---+-----+----+\n",
      "|_c0|  _c1| _c2|\n",
      "+---+-----+----+\n",
      "|  1|mohan|male|\n",
      "|  1|mohan|male|\n",
      "|  1|mohan|male|\n",
      "|  1|mohan|male|\n",
      "|  1|mohan|male|\n",
      "|  1|mohan|male|\n",
      "|  1|mohan|male|\n",
      "|  1|roahn|male|\n",
      "|  1|sohan|male|\n",
      "+---+-----+----+\n",
      "\n"
     ]
    }
   ],
   "source": [
    "df.show()"
   ]
  },
  {
   "cell_type": "code",
   "execution_count": 12,
   "id": "23377a46",
   "metadata": {},
   "outputs": [
    {
     "name": "stdout",
     "output_type": "stream",
     "text": [
      "root\n",
      " |-- _c0: string (nullable = true)\n",
      " |-- _c1: string (nullable = true)\n",
      " |-- _c2: string (nullable = true)\n",
      "\n"
     ]
    }
   ],
   "source": [
    "df.printSchema()"
   ]
  },
  {
   "cell_type": "code",
   "execution_count": 14,
   "id": "dacbb74d",
   "metadata": {},
   "outputs": [
    {
     "ename": "TypeError",
     "evalue": "options() takes 1 positional argument but 3 were given",
     "output_type": "error",
     "traceback": [
      "\u001b[1;31m---------------------------------------------------------------------------\u001b[0m",
      "\u001b[1;31mTypeError\u001b[0m                                 Traceback (most recent call last)",
      "\u001b[1;32m~\\AppData\\Local\\Temp\\ipykernel_14908\\1685004480.py\u001b[0m in \u001b[0;36m<module>\u001b[1;34m\u001b[0m\n\u001b[1;32m----> 1\u001b[1;33m \u001b[0mdf\u001b[0m\u001b[1;33m=\u001b[0m\u001b[0mspark\u001b[0m\u001b[1;33m.\u001b[0m\u001b[0mread\u001b[0m\u001b[1;33m.\u001b[0m\u001b[0moptions\u001b[0m\u001b[1;33m(\u001b[0m\u001b[1;34m\"header\"\u001b[0m\u001b[1;33m,\u001b[0m\u001b[1;32mTrue\u001b[0m\u001b[1;33m)\u001b[0m\u001b[1;33m.\u001b[0m\u001b[0mcsv\u001b[0m\u001b[1;33m(\u001b[0m\u001b[1;34m'practice.txt'\u001b[0m\u001b[1;33m)\u001b[0m\u001b[1;33m\u001b[0m\u001b[1;33m\u001b[0m\u001b[0m\n\u001b[0m\u001b[0;32m      2\u001b[0m \u001b[0mdf\u001b[0m\u001b[1;33m.\u001b[0m\u001b[0mshow\u001b[0m\u001b[1;33m(\u001b[0m\u001b[1;33m)\u001b[0m\u001b[1;33m\u001b[0m\u001b[1;33m\u001b[0m\u001b[0m\n\u001b[0;32m      3\u001b[0m \u001b[1;31m# rdd=spark.read.option(\"header\",True).csv(\"filepath\")\u001b[0m\u001b[1;33m\u001b[0m\u001b[1;33m\u001b[0m\u001b[0m\n",
      "\u001b[1;31mTypeError\u001b[0m: options() takes 1 positional argument but 3 were given"
     ]
    }
   ],
   "source": [
    "df=spark.read.options(\"header\",True).csv('practice.txt')\n",
    "df.show()\n",
    "# rdd=spark.read.option(\"header\",True).csv(\"filepath\")"
   ]
  },
  {
   "cell_type": "code",
   "execution_count": 15,
   "id": "13116926",
   "metadata": {},
   "outputs": [],
   "source": [
    "# you can read multiples files from directory as \n",
    "# df.read.option().csv(\"filepath\")"
   ]
  },
  {
   "cell_type": "code",
   "execution_count": 16,
   "id": "6b382ffd",
   "metadata": {},
   "outputs": [],
   "source": [
    "import pyspark\n",
    "from pyspark.sql import SparkSession\n",
    "spark=SparkSession.builder.appName('new').getOrCreate()"
   ]
  },
  {
   "cell_type": "code",
   "execution_count": 17,
   "id": "caa1d074",
   "metadata": {},
   "outputs": [],
   "source": [
    "data=[(1,'Rohan'),(2,'sohan'),(3,\"mona\"),(4,\"raunak\")]\n",
    "columns=[\"id\",\"name\"]"
   ]
  },
  {
   "cell_type": "code",
   "execution_count": 18,
   "id": "e7cdd526",
   "metadata": {},
   "outputs": [],
   "source": [
    "df=spark.createDataFrame(data,columns)"
   ]
  },
  {
   "cell_type": "code",
   "execution_count": 19,
   "id": "53fae3c0",
   "metadata": {},
   "outputs": [
    {
     "name": "stdout",
     "output_type": "stream",
     "text": [
      "+---+------+\n",
      "| id|  name|\n",
      "+---+------+\n",
      "|  1| Rohan|\n",
      "|  2| sohan|\n",
      "|  3|  mona|\n",
      "|  4|raunak|\n",
      "+---+------+\n",
      "\n"
     ]
    }
   ],
   "source": [
    "df.show()"
   ]
  },
  {
   "cell_type": "code",
   "execution_count": 20,
   "id": "27aa0946",
   "metadata": {},
   "outputs": [
    {
     "name": "stdout",
     "output_type": "stream",
     "text": [
      "+---+-----+\n",
      "| id| name|\n",
      "+---+-----+\n",
      "|  1|Rohan|\n",
      "+---+-----+\n",
      "only showing top 1 row\n",
      "\n"
     ]
    }
   ],
   "source": [
    "df.show(1) # show only that much rows"
   ]
  },
  {
   "cell_type": "code",
   "execution_count": 21,
   "id": "1d8880c7",
   "metadata": {},
   "outputs": [],
   "source": [
    "df=spark.read.options(header=False,inferSchema=True).csv('practice.txt')"
   ]
  },
  {
   "cell_type": "code",
   "execution_count": 22,
   "id": "06603f50",
   "metadata": {},
   "outputs": [
    {
     "name": "stdout",
     "output_type": "stream",
     "text": [
      "root\n",
      " |-- _c0: integer (nullable = true)\n",
      " |-- _c1: string (nullable = true)\n",
      " |-- _c2: string (nullable = true)\n",
      "\n"
     ]
    }
   ],
   "source": [
    "df.printSchema()"
   ]
  },
  {
   "cell_type": "code",
   "execution_count": 23,
   "id": "595ee589",
   "metadata": {},
   "outputs": [
    {
     "name": "stdout",
     "output_type": "stream",
     "text": [
      "+---+-----+----+\n",
      "|_c0|  _c1| _c2|\n",
      "+---+-----+----+\n",
      "|  1|mohan|male|\n",
      "|  1|mohan|male|\n",
      "|  1|mohan|male|\n",
      "|  1|mohan|male|\n",
      "|  1|mohan|male|\n",
      "|  1|mohan|male|\n",
      "|  1|mohan|male|\n",
      "|  1|roahn|male|\n",
      "|  1|sohan|male|\n",
      "+---+-----+----+\n",
      "\n"
     ]
    }
   ],
   "source": [
    "df.show()"
   ]
  },
  {
   "cell_type": "markdown",
   "id": "870c8c44",
   "metadata": {},
   "source": [
    "# Starting----->"
   ]
  },
  {
   "cell_type": "code",
   "execution_count": 24,
   "id": "bda87176",
   "metadata": {},
   "outputs": [
    {
     "name": "stdout",
     "output_type": "stream",
     "text": [
      "root\n",
      " |-- Name: string (nullable = true)\n",
      " |-- age: integer (nullable = true)\n",
      " |-- course: string (nullable = true)\n",
      " |-- sex: string (nullable = true)\n",
      "\n"
     ]
    }
   ],
   "source": [
    "df=spark.read.options(header=True,inferSchema=True).csv(r'C:\\Users\\risha\\OneDrive\\Desktop\\Book1.csv')\n",
    "df.printSchema()"
   ]
  },
  {
   "cell_type": "code",
   "execution_count": 25,
   "id": "47fbee27",
   "metadata": {},
   "outputs": [
    {
     "name": "stdout",
     "output_type": "stream",
     "text": [
      "+-------+---+------+---+\n",
      "|   Name|age|course|sex|\n",
      "+-------+---+------+---+\n",
      "| Rishav| 24|  Upsc|  M|\n",
      "|  Richa| 24|IITJAM|  F|\n",
      "|Srishti| 24|  Upsc|  F|\n",
      "| Rishav| 24|IITJAM|  M|\n",
      "|   Neha| 24|  Upsc|  F|\n",
      "| Rishav| 24|   SSC|  M|\n",
      "| Raghav| 24|IITJAM|  M|\n",
      "|  Tanya| 24|   SSC|  F|\n",
      "|Rishabh| 24|  Upsc|  M|\n",
      "|  Naman| 24|IITJAM|  M|\n",
      "|  Rahul| 24|  Upsc|  M|\n",
      "| Pandey| 24|  Upsc|  M|\n",
      "|   Alok| 24|   SSC|  M|\n",
      "+-------+---+------+---+\n",
      "\n"
     ]
    }
   ],
   "source": [
    "df.show()"
   ]
  },
  {
   "cell_type": "code",
   "execution_count": 26,
   "id": "a1539037",
   "metadata": {},
   "outputs": [
    {
     "name": "stdout",
     "output_type": "stream",
     "text": [
      "+-------+---+\n",
      "|   Name|age|\n",
      "+-------+---+\n",
      "| Rishav| 24|\n",
      "|  Richa| 24|\n",
      "|Srishti| 24|\n",
      "| Rishav| 24|\n",
      "|   Neha| 24|\n",
      "| Rishav| 24|\n",
      "| Raghav| 24|\n",
      "|  Tanya| 24|\n",
      "|Rishabh| 24|\n",
      "|  Naman| 24|\n",
      "|  Rahul| 24|\n",
      "| Pandey| 24|\n",
      "|   Alok| 24|\n",
      "+-------+---+\n",
      "\n"
     ]
    }
   ],
   "source": [
    "df.select(\"Name\",\"age\").show()"
   ]
  },
  {
   "cell_type": "code",
   "execution_count": 27,
   "id": "6f5042a2",
   "metadata": {},
   "outputs": [
    {
     "name": "stdout",
     "output_type": "stream",
     "text": [
      "+-------+---+\n",
      "|   Name|age|\n",
      "+-------+---+\n",
      "| Rishav| 24|\n",
      "|  Richa| 24|\n",
      "|Srishti| 24|\n",
      "| Rishav| 24|\n",
      "|   Neha| 24|\n",
      "| Rishav| 24|\n",
      "| Raghav| 24|\n",
      "|  Tanya| 24|\n",
      "|Rishabh| 24|\n",
      "|  Naman| 24|\n",
      "|  Rahul| 24|\n",
      "| Pandey| 24|\n",
      "|   Alok| 24|\n",
      "+-------+---+\n",
      "\n"
     ]
    }
   ],
   "source": [
    "df.select(df.columns[:2]).show() # in select we have to name the columns"
   ]
  },
  {
   "cell_type": "code",
   "execution_count": 28,
   "id": "fa229ae2",
   "metadata": {},
   "outputs": [
    {
     "data": {
      "text/plain": [
       "list"
      ]
     },
     "execution_count": 28,
     "metadata": {},
     "output_type": "execute_result"
    }
   ],
   "source": [
    "type(df.collect())"
   ]
  },
  {
   "cell_type": "code",
   "execution_count": 29,
   "id": "0fa8ccdc",
   "metadata": {},
   "outputs": [
    {
     "data": {
      "text/plain": [
       "Row(Name='Rishav', age=24, course='Upsc', sex='M')"
      ]
     },
     "execution_count": 29,
     "metadata": {},
     "output_type": "execute_result"
    }
   ],
   "source": [
    "df.collect()[0]"
   ]
  },
  {
   "cell_type": "code",
   "execution_count": 30,
   "id": "fc3b06b5",
   "metadata": {},
   "outputs": [],
   "source": [
    "# select() is a transformation that returns a new DataFrame and holds the columns that are selected whereas \n",
    "# collect() is an action that returns the entire data set in an Array to the driver.\n",
    "# It is giving the info as a list of any pyspark d"
   ]
  },
  {
   "cell_type": "code",
   "execution_count": 42,
   "id": "d1fc6e7a",
   "metadata": {},
   "outputs": [
    {
     "name": "stdout",
     "output_type": "stream",
     "text": [
      "+-------+---+------+---+\n",
      "|   Name|age|course|sex|\n",
      "+-------+---+------+---+\n",
      "| Rishav| 24|  Upsc|  M|\n",
      "|  Richa| 24|IITJAM|  M|\n",
      "|Srishti| 24|  Upsc|  M|\n",
      "| Rishav| 24|IITJAM|  M|\n",
      "|   Neha| 24|  Upsc|  M|\n",
      "| Rishav| 24|   SSC|  M|\n",
      "| Raghav| 24|IITJAM|  M|\n",
      "|  Tanya| 24|   SSC|  M|\n",
      "|Rishabh| 24|  Upsc|  M|\n",
      "|  Naman| 24|IITJAM|  M|\n",
      "|  Rahul| 24|  Upsc|  M|\n",
      "| Pandey| 24|  Upsc|  M|\n",
      "|   Alok| 24|   SSC|  M|\n",
      "+-------+---+------+---+\n",
      "\n"
     ]
    }
   ],
   "source": [
    "from pyspark.sql.functions import lit,col\n",
    "df.withColumn(\"sex\",lit(\"M\")).show()  # lit function is used to create a new column with a value"
   ]
  },
  {
   "cell_type": "code",
   "execution_count": null,
   "id": "e4eb7731",
   "metadata": {},
   "outputs": [],
   "source": [
    "# HOw to filter "
   ]
  },
  {
   "cell_type": "code",
   "execution_count": 48,
   "id": "a9cca609",
   "metadata": {},
   "outputs": [
    {
     "name": "stdout",
     "output_type": "stream",
     "text": [
      "+-------+---+------+---+\n",
      "|   Name|age|course|sex|\n",
      "+-------+---+------+---+\n",
      "| Rishav| 24|  Upsc|  M|\n",
      "|Srishti| 24|  Upsc|  F|\n",
      "|   Neha| 24|  Upsc|  F|\n",
      "|Rishabh| 24|  Upsc|  M|\n",
      "|  Rahul| 24|  Upsc|  M|\n",
      "| Pandey| 24|  Upsc|  M|\n",
      "+-------+---+------+---+\n",
      "\n"
     ]
    }
   ],
   "source": [
    "df.filter(df.course==\"Upsc\").show()"
   ]
  },
  {
   "cell_type": "code",
   "execution_count": 54,
   "id": "fd0b974d",
   "metadata": {},
   "outputs": [
    {
     "name": "stdout",
     "output_type": "stream",
     "text": [
      "+-------+---+------+---+\n",
      "|   Name|age|course|sex|\n",
      "+-------+---+------+---+\n",
      "|  Richa| 24|IITJAM|  F|\n",
      "|Srishti| 24|  Upsc|  F|\n",
      "|   Neha| 24|  Upsc|  F|\n",
      "|  Tanya| 24|   SSC|  F|\n",
      "+-------+---+------+---+\n",
      "\n"
     ]
    }
   ],
   "source": [
    "df.filter(col('sex')==\"F\").show() # single conditions"
   ]
  },
  {
   "cell_type": "code",
   "execution_count": 56,
   "id": "c0cf6e5f",
   "metadata": {},
   "outputs": [
    {
     "name": "stdout",
     "output_type": "stream",
     "text": [
      "+-------+---+------+---+\n",
      "|   Name|age|course|sex|\n",
      "+-------+---+------+---+\n",
      "|Srishti| 24|  Upsc|  F|\n",
      "|   Neha| 24|  Upsc|  F|\n",
      "+-------+---+------+---+\n",
      "\n"
     ]
    }
   ],
   "source": [
    "df.filter((col(\"course\")==\"Upsc\") & (col(\"sex\")==\"F\")).show() #multiple conditions"
   ]
  },
  {
   "cell_type": "code",
   "execution_count": 60,
   "id": "c3145d82",
   "metadata": {},
   "outputs": [
    {
     "name": "stdout",
     "output_type": "stream",
     "text": [
      "+------+---+------+---+\n",
      "|  Name|age|course|sex|\n",
      "+------+---+------+---+\n",
      "|Rishav| 24|  Upsc|  M|\n",
      "|Rishav| 24|IITJAM|  M|\n",
      "|Rishav| 24|   SSC|  M|\n",
      "+------+---+------+---+\n",
      "\n"
     ]
    }
   ],
   "source": [
    "df.where(df.Name==\"Rishav\").show()# you can use where or filter method to filter out values"
   ]
  },
  {
   "cell_type": "code",
   "execution_count": 65,
   "id": "055cdd73",
   "metadata": {},
   "outputs": [
    {
     "name": "stdout",
     "output_type": "stream",
     "text": [
      "+-------+---+------+---+\n",
      "|   Name|age|course|sex|\n",
      "+-------+---+------+---+\n",
      "|   Alok| 24|   SSC|  M|\n",
      "|  Naman| 24|IITJAM|  M|\n",
      "|   Neha| 24|  Upsc|  F|\n",
      "| Pandey| 24|  Upsc|  M|\n",
      "| Raghav| 24|IITJAM|  M|\n",
      "|  Rahul| 24|  Upsc|  M|\n",
      "|  Richa| 24|IITJAM|  F|\n",
      "|Rishabh| 24|  Upsc|  M|\n",
      "| Rishav| 24|IITJAM|  M|\n",
      "| Rishav| 24|   SSC|  M|\n",
      "| Rishav| 24|  Upsc|  M|\n",
      "|Srishti| 24|  Upsc|  F|\n",
      "|  Tanya| 24|   SSC|  F|\n",
      "+-------+---+------+---+\n",
      "\n"
     ]
    }
   ],
   "source": [
    "df.sort(\"Name\").show()"
   ]
  },
  {
   "cell_type": "code",
   "execution_count": 68,
   "id": "7c4686e6",
   "metadata": {},
   "outputs": [
    {
     "name": "stdout",
     "output_type": "stream",
     "text": [
      "+-------+---+------+---+\n",
      "|   Name|age|course|sex|\n",
      "+-------+---+------+---+\n",
      "|  Tanya| 24|   SSC|  F|\n",
      "|Srishti| 24|  Upsc|  F|\n",
      "| Rishav| 24|  Upsc|  M|\n",
      "| Rishav| 24|IITJAM|  M|\n",
      "| Rishav| 24|   SSC|  M|\n",
      "|Rishabh| 24|  Upsc|  M|\n",
      "|  Richa| 24|IITJAM|  F|\n",
      "|  Rahul| 24|  Upsc|  M|\n",
      "| Raghav| 24|IITJAM|  M|\n",
      "| Pandey| 24|  Upsc|  M|\n",
      "|   Neha| 24|  Upsc|  F|\n",
      "|  Naman| 24|IITJAM|  M|\n",
      "|   Alok| 24|   SSC|  M|\n",
      "+-------+---+------+---+\n",
      "\n"
     ]
    }
   ],
   "source": [
    "df.sort(col(\"Name\").desc()).show()"
   ]
  },
  {
   "cell_type": "code",
   "execution_count": 71,
   "id": "0b999aab",
   "metadata": {},
   "outputs": [
    {
     "name": "stdout",
     "output_type": "stream",
     "text": [
      "+-------+---+------+---+\n",
      "|Name   |age|course|sex|\n",
      "+-------+---+------+---+\n",
      "|Naman  |24 |IITJAM|M  |\n",
      "|Richa  |24 |IITJAM|F  |\n",
      "|Rishav |24 |IITJAM|M  |\n",
      "|Raghav |24 |IITJAM|M  |\n",
      "|Rishav |24 |SSC   |M  |\n",
      "|Alok   |24 |SSC   |M  |\n",
      "|Tanya  |24 |SSC   |F  |\n",
      "|Rishav |24 |Upsc  |M  |\n",
      "|Srishti|24 |Upsc  |F  |\n",
      "|Rahul  |24 |Upsc  |M  |\n",
      "|Neha   |24 |Upsc  |F  |\n",
      "|Pandey |24 |Upsc  |M  |\n",
      "|Rishabh|24 |Upsc  |M  |\n",
      "+-------+---+------+---+\n",
      "\n"
     ]
    }
   ],
   "source": [
    "df.sort(col(\"course\").asc()).show(truncate=False)"
   ]
  },
  {
   "cell_type": "code",
   "execution_count": 75,
   "id": "6c1dc216",
   "metadata": {},
   "outputs": [
    {
     "name": "stdout",
     "output_type": "stream",
     "text": [
      "+-------+---+------+---+\n",
      "|   Name|age|course|sex|\n",
      "+-------+---+------+---+\n",
      "|  Tanya| 24|   SSC|  F|\n",
      "|Srishti| 24|  Upsc|  F|\n",
      "| Rishav| 24|  Upsc|  M|\n",
      "| Rishav| 24|IITJAM|  M|\n",
      "| Rishav| 24|   SSC|  M|\n",
      "|Rishabh| 24|  Upsc|  M|\n",
      "|  Richa| 24|IITJAM|  F|\n",
      "|  Rahul| 24|  Upsc|  M|\n",
      "| Raghav| 24|IITJAM|  M|\n",
      "| Pandey| 24|  Upsc|  M|\n",
      "|   Neha| 24|  Upsc|  F|\n",
      "|  Naman| 24|IITJAM|  M|\n",
      "|   Alok| 24|   SSC|  M|\n",
      "+-------+---+------+---+\n",
      "\n"
     ]
    }
   ],
   "source": [
    "df.orderBy(col(\"Name\").desc()).show() # we can use both orderBy or sort functions"
   ]
  },
  {
   "cell_type": "code",
   "execution_count": null,
   "id": "b5f4f7a3",
   "metadata": {},
   "outputs": [],
   "source": []
  }
 ],
 "metadata": {
  "kernelspec": {
   "display_name": "Python 3 (ipykernel)",
   "language": "python",
   "name": "python3"
  },
  "language_info": {
   "codemirror_mode": {
    "name": "ipython",
    "version": 3
   },
   "file_extension": ".py",
   "mimetype": "text/x-python",
   "name": "python",
   "nbconvert_exporter": "python",
   "pygments_lexer": "ipython3",
   "version": "3.9.13"
  }
 },
 "nbformat": 4,
 "nbformat_minor": 5
}
